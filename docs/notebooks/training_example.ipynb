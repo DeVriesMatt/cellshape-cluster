{
 "cells": [
  {
   "cell_type": "code",
   "execution_count": 1,
   "id": "04ea7979",
   "metadata": {},
   "outputs": [],
   "source": [
    "from cellshape_voxel.autoencoder import AutoEncoder\n",
    "from cellshape_voxel.datasets import VoxelDataset\n",
    "from cellshape_cluster.deep_embedded_clustering import DeepEmbeddedClustering\n",
    "from cellshape_voxel.autoencoder import AutoEncoder\n",
    "from cellshape_voxel.datasets import VoxelDataset\n",
    "import torch\n",
    "from torch.utils.data import DataLoader\n",
    "from cellshape_cluster.training_functions import train\n",
    "from cellshape_voxel.losses import FocalTverskyLoss"
   ]
  },
  {
   "cell_type": "code",
   "execution_count": 2,
   "id": "776122f1",
   "metadata": {},
   "outputs": [],
   "source": [
    "autoencoder  = AutoEncoder(num_layers_encoder=4,\n",
    "                   num_layers_decoder=4,\n",
    "                    input_shape=(64, 64, 64, 1),\n",
    "                   encoder_type='resnet')\n",
    "\n",
    "\n",
    "model = DeepEmbeddedClustering(autoencoder, 10)"
   ]
  },
  {
   "cell_type": "code",
   "execution_count": 3,
   "id": "f971cd6c",
   "metadata": {},
   "outputs": [
    {
     "name": "stdout",
     "output_type": "stream",
     "text": [
      "Calculating target distribution\n"
     ]
    },
    {
     "name": "stderr",
     "output_type": "stream",
     "text": [
      "Epoch 0:   0%|          | 0/115 [00:00<?, ?batch/s]"
     ]
    },
    {
     "name": "stdout",
     "output_type": "stream",
     "text": [
      "Training epoch 0\n"
     ]
    },
    {
     "name": "stderr",
     "output_type": "stream",
     "text": [
      "\n"
     ]
    },
    {
     "ename": "AttributeError",
     "evalue": "'numpy.ndarray' object has no attribute 'to'",
     "output_type": "error",
     "traceback": [
      "\u001B[0;31m---------------------------------------------------------------------------\u001B[0m",
      "\u001B[0;31mAttributeError\u001B[0m                            Traceback (most recent call last)",
      "\u001B[0;32m<ipython-input-3-0af122ad44c3>\u001B[0m in \u001B[0;36m<module>\u001B[0;34m\u001B[0m\n\u001B[1;32m     21\u001B[0m \u001B[0mclust_crit\u001B[0m \u001B[0;34m=\u001B[0m \u001B[0mnn\u001B[0m\u001B[0;34m.\u001B[0m\u001B[0mKLDivLoss\u001B[0m\u001B[0;34m(\u001B[0m\u001B[0mreduction\u001B[0m\u001B[0;34m=\u001B[0m\u001B[0;34m'sum'\u001B[0m\u001B[0;34m)\u001B[0m\u001B[0;34m\u001B[0m\u001B[0;34m\u001B[0m\u001B[0m\n\u001B[1;32m     22\u001B[0m \u001B[0;34m\u001B[0m\u001B[0m\n\u001B[0;32m---> 23\u001B[0;31m \u001B[0mtrain\u001B[0m\u001B[0;34m(\u001B[0m\u001B[0mmodel\u001B[0m\u001B[0;34m,\u001B[0m \u001B[0mdataloader\u001B[0m\u001B[0;34m,\u001B[0m \u001B[0mdataloader_inf\u001B[0m\u001B[0;34m,\u001B[0m \u001B[0;36m1\u001B[0m\u001B[0;34m,\u001B[0m \u001B[0moptimizer\u001B[0m\u001B[0;34m,\u001B[0m \u001B[0mrecon_crit\u001B[0m\u001B[0;34m,\u001B[0m \u001B[0mclust_crit\u001B[0m\u001B[0;34m,\u001B[0m \u001B[0;36m1\u001B[0m\u001B[0;34m,\u001B[0m \u001B[0;36m0.01\u001B[0m\u001B[0;34m,\u001B[0m \u001B[0;36m2\u001B[0m\u001B[0;34m,\u001B[0m \u001B[0;34m\"./\"\u001B[0m\u001B[0;34m)\u001B[0m\u001B[0;34m\u001B[0m\u001B[0;34m\u001B[0m\u001B[0m\n\u001B[0m",
      "\u001B[0;32m~/Documents/GitHub/cellshape-cluster/cellshape_cluster/training_functions.py\u001B[0m in \u001B[0;36mtrain\u001B[0;34m(model, dataloader, dataloader_inf, num_epochs, optimizer, reconstruction_criterion, cluster_criterion, update_interval, gamma, q_pow, save_to)\u001B[0m\n\u001B[1;32m     42\u001B[0m                 \u001B[0minputs\u001B[0m \u001B[0;34m=\u001B[0m \u001B[0minputs\u001B[0m\u001B[0;34m.\u001B[0m\u001B[0mto\u001B[0m\u001B[0;34m(\u001B[0m\u001B[0mdevice\u001B[0m\u001B[0;34m)\u001B[0m\u001B[0;34m\u001B[0m\u001B[0;34m\u001B[0m\u001B[0m\n\u001B[1;32m     43\u001B[0m                 \u001B[0mbatch_size\u001B[0m \u001B[0;34m=\u001B[0m \u001B[0minputs\u001B[0m\u001B[0;34m.\u001B[0m\u001B[0mshape\u001B[0m\u001B[0;34m[\u001B[0m\u001B[0;36m0\u001B[0m\u001B[0;34m]\u001B[0m\u001B[0;34m\u001B[0m\u001B[0;34m\u001B[0m\u001B[0m\n\u001B[0;32m---> 44\u001B[0;31m                 \u001B[0mtar_dist\u001B[0m \u001B[0;34m=\u001B[0m \u001B[0mtarget_distribution\u001B[0m\u001B[0;34m[\u001B[0m\u001B[0;34m(\u001B[0m\u001B[0;34m(\u001B[0m\u001B[0mbatch_num\u001B[0m \u001B[0;34m-\u001B[0m \u001B[0;36m1\u001B[0m\u001B[0;34m)\u001B[0m \u001B[0;34m*\u001B[0m \u001B[0mbatch_size\u001B[0m\u001B[0;34m)\u001B[0m\u001B[0;34m:\u001B[0m\u001B[0;34m(\u001B[0m\u001B[0mbatch_num\u001B[0m \u001B[0;34m*\u001B[0m \u001B[0mbatch_size\u001B[0m\u001B[0;34m)\u001B[0m\u001B[0;34m,\u001B[0m \u001B[0;34m:\u001B[0m\u001B[0;34m]\u001B[0m\u001B[0;34m.\u001B[0m\u001B[0mto\u001B[0m\u001B[0;34m(\u001B[0m\u001B[0mdevice\u001B[0m\u001B[0;34m)\u001B[0m\u001B[0;34m\u001B[0m\u001B[0;34m\u001B[0m\u001B[0m\n\u001B[0m\u001B[1;32m     45\u001B[0m \u001B[0;34m\u001B[0m\u001B[0m\n\u001B[1;32m     46\u001B[0m                 \u001B[0;31m# ===================forward=====================\u001B[0m\u001B[0;34m\u001B[0m\u001B[0;34m\u001B[0m\u001B[0;34m\u001B[0m\u001B[0m\n",
      "\u001B[0;31mAttributeError\u001B[0m: 'numpy.ndarray' object has no attribute 'to'"
     ]
    }
   ],
   "source": [
    "from torch import nn\n",
    "\n",
    "PATH_TO_DATASET = '/home/mvries/Documents/Datasets/ModelNet10Voxel/Train'\n",
    "batch_size = 16\n",
    "learning_rate = 0.0000001\n",
    "\n",
    "\n",
    "dataset = VoxelDataset(PATH_TO_DATASET, transform=None, img_size=(64, 64, 64))\n",
    "\n",
    "dataloader = DataLoader(dataset, batch_size=batch_size, shuffle=False)\n",
    "dataloader_inf = DataLoader(dataset, batch_size=1, shuffle=False)\n",
    "\n",
    "optimizer = torch.optim.Adam(\n",
    "    model.parameters(),\n",
    "    lr=learning_rate * 16 / batch_size,\n",
    "    betas=(0.9, 0.999),\n",
    "    weight_decay=1e-6,\n",
    ")\n",
    "\n",
    "recon_crit = FocalTverskyLoss()\n",
    "clust_crit = nn.KLDivLoss(reduction='sum')\n",
    "\n",
    "train(model, dataloader, dataloader_inf, 1, optimizer, recon_crit, clust_crit, 1, 0.01, 2, \"./\")"
   ]
  },
  {
   "cell_type": "code",
   "execution_count": null,
   "id": "85ea27d8",
   "metadata": {},
   "outputs": [],
   "source": []
  }
 ],
 "metadata": {
  "kernelspec": {
   "display_name": "Python 3",
   "language": "python",
   "name": "python3"
  },
  "language_info": {
   "codemirror_mode": {
    "name": "ipython",
    "version": 3
   },
   "file_extension": ".py",
   "mimetype": "text/x-python",
   "name": "python",
   "nbconvert_exporter": "python",
   "pygments_lexer": "ipython3",
   "version": "3.8.8"
  }
 },
 "nbformat": 4,
 "nbformat_minor": 5
}