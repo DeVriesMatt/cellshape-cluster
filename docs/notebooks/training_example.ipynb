{
 "cells": [
  {
   "cell_type": "code",
   "execution_count": null,
   "id": "c268eb5d",
   "metadata": {
    "pycharm": {
     "name": "#%%\n"
    }
   },
   "outputs": [],
   "source": [
    "import torch\n",
    "from torch.utils.data import DataLoader\n",
    "import cellshape_cloud as cscld\n",
    "from cellshape_cluster.deep_embedded_clustering import DeepEmbeddedClustering\n",
    "from cellshape_cluster.training_functions import train\n",
    "from chamferdist import ChamferDistance"
   ]
  },
  {
   "cell_type": "code",
   "execution_count": null,
   "id": "e5a4c974",
   "metadata": {
    "pycharm": {
     "name": "#%%\n"
    }
   },
   "outputs": [],
   "source": [
    "autoencoder = cscld.GraphAutoEncoder(\n",
    "    num_features=128, k=20, encoder_type=\"dgcnn\"\n",
    ")\n",
    "\n",
    "\n",
    "model = DeepEmbeddedClustering(autoencoder, 10)"
   ]
  },
  {
   "cell_type": "code",
   "execution_count": null,
   "id": "68e18253",
   "metadata": {
    "pycharm": {
     "name": "#%%\n"
    }
   },
   "outputs": [],
   "source": [
    "from torch import nn\n",
    "\n",
    "PATH_TO_DATASET = \"/home/mvries/Documents/Datasets/ModelNet10Voxel/Train\"\n",
    "batch_size = 16\n",
    "learning_rate = 0.00001\n",
    "\n",
    "\n",
    "dataset = cscld.PointCloudDataset(PATH_TO_DATASET)\n",
    "\n",
    "dataloader = DataLoader(dataset, batch_size=batch_size, shuffle=False)\n",
    "dataloader_inf = DataLoader(dataset, batch_size=1, shuffle=False)\n",
    "\n",
    "optimizer = torch.optim.Adam(\n",
    "    model.parameters(),\n",
    "    lr=learning_rate * 16 / batch_size,\n",
    "    betas=(0.9, 0.999),\n",
    "    weight_decay=1e-6,\n",
    ")\n",
    "\n",
    "recon_crit = ChamferDistance()\n",
    "clust_crit = nn.KLDivLoss(reduction=\"sum\")\n",
    "\n",
    "train(\n",
    "    model,\n",
    "    dataloader,\n",
    "    dataloader_inf,\n",
    "    1,\n",
    "    optimizer,\n",
    "    recon_crit,\n",
    "    clust_crit,\n",
    "    1,\n",
    "    0.01,\n",
    "    2,\n",
    "    \"./\",\n",
    ")"
   ]
  }
 ],
 "metadata": {
  "kernelspec": {
   "display_name": "Python 3",
   "language": "python",
   "name": "python3"
  },
  "language_info": {
   "codemirror_mode": {
    "name": "ipython",
    "version": 3
   },
   "file_extension": ".py",
   "mimetype": "text/x-python",
   "name": "python",
   "nbconvert_exporter": "python",
   "pygments_lexer": "ipython3",
   "version": "3.8.8"
  }
 },
 "nbformat": 4,
 "nbformat_minor": 5
}