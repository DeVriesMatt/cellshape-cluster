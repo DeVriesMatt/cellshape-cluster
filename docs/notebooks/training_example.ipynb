{
 "cells": [
  {
   "cell_type": "code",
   "execution_count": null,
   "id": "c268eb5d",
   "metadata": {},
   "outputs": [],
   "source": [
    "from cellshape_voxel.autoencoder import AutoEncoder\n",
    "from cellshape_voxel.datasets import VoxelDataset\n",
    "from cellshape_cluster.deep_embedded_clustering import DeepEmbeddedClustering\n",
    "from cellshape_voxel.autoencoder import AutoEncoder\n",
    "from cellshape_voxel.datasets import VoxelDataset\n",
    "import torch\n",
    "from torch.utils.data import DataLoader\n",
    "from cellshape_cluster.training_functions import train\n",
    "from cellshape_voxel.losses import FocalTverskyLoss"
   ]
  },
  {
   "cell_type": "code",
   "execution_count": null,
   "id": "e5a4c974",
   "metadata": {},
   "outputs": [],
   "source": [
    "autoencoder  = AutoEncoder(num_layers_encoder=4,\n",
    "                   num_layers_decoder=4,\n",
    "                    input_shape=(64, 64, 64, 1),\n",
    "                   encoder_type='resnet')\n",
    "\n",
    "\n",
    "model = DeepEmbeddedClustering(autoencoder, 10)"
   ]
  },
  {
   "cell_type": "code",
   "execution_count": null,
   "id": "68e18253",
   "metadata": {},
   "outputs": [],
   "source": [
    "from torch import nn\n",
    "\n",
    "PATH_TO_DATASET = '/home/mvries/Documents/Datasets/ModelNet10Voxel/Train'\n",
    "batch_size = 16\n",
    "learning_rate = 0.0000001\n",
    "\n",
    "\n",
    "dataset = VoxelDataset(PATH_TO_DATASET, transform=None, img_size=(64, 64, 64))\n",
    "\n",
    "dataloader = DataLoader(dataset, batch_size=batch_size, shuffle=False)\n",
    "dataloader_inf = DataLoader(dataset, batch_size=1, shuffle=False)\n",
    "\n",
    "optimizer = torch.optim.Adam(\n",
    "    model.parameters(),\n",
    "    lr=learning_rate * 16 / batch_size,\n",
    "    betas=(0.9, 0.999),\n",
    "    weight_decay=1e-6,\n",
    ")\n",
    "\n",
    "recon_crit = FocalTverskyLoss()\n",
    "clust_crit = nn.KLDivLoss(reduction='sum')\n",
    "\n",
    "train(model, dataloader, dataloader_inf, 1, optimizer, recon_crit, clust_crit, 1, 0.01, 2, \"./\")"
   ]
  }
 ],
 "metadata": {
  "kernelspec": {
   "display_name": "Python 3",
   "language": "python",
   "name": "python3"
  },
  "language_info": {
   "codemirror_mode": {
    "name": "ipython",
    "version": 3
   },
   "file_extension": ".py",
   "mimetype": "text/x-python",
   "name": "python",
   "nbconvert_exporter": "python",
   "pygments_lexer": "ipython3",
   "version": "3.8.8"
  }
 },
 "nbformat": 4,
 "nbformat_minor": 5
}